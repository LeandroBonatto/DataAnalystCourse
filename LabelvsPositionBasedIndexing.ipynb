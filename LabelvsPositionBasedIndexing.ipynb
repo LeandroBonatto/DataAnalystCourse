{
 "cells": [
  {
   "cell_type": "code",
   "execution_count": 1,
   "id": "acb68dc7",
   "metadata": {},
   "outputs": [],
   "source": [
    "import pandas as pd"
   ]
  },
  {
   "cell_type": "code",
   "execution_count": 2,
   "id": "56826cbd",
   "metadata": {},
   "outputs": [
    {
     "name": "stdout",
     "output_type": "stream",
     "text": [
      "Martin    8\n",
      "George    5\n",
      "dtype: int64\n"
     ]
    }
   ],
   "source": [
    "employees_work_exp = pd.Series({'Martin':8, 'George':5})\n",
    "print(employees_work_exp)"
   ]
  },
  {
   "cell_type": "code",
   "execution_count": 3,
   "id": "83a85d7a",
   "metadata": {},
   "outputs": [
    {
     "name": "stdout",
     "output_type": "stream",
     "text": [
      "Index(['Martin', 'George'], dtype='object')\n"
     ]
    }
   ],
   "source": [
    "print(employees_work_exp.index)"
   ]
  },
  {
   "cell_type": "code",
   "execution_count": 4,
   "id": "6a922cf8",
   "metadata": {},
   "outputs": [],
   "source": [
    "# working with indices\n"
   ]
  },
  {
   "cell_type": "code",
   "execution_count": 5,
   "id": "466dae5b",
   "metadata": {},
   "outputs": [
    {
     "name": "stdout",
     "output_type": "stream",
     "text": [
      "<class 'str'>\n"
     ]
    }
   ],
   "source": [
    "print(type(employees_work_exp.index[0]))"
   ]
  },
  {
   "cell_type": "code",
   "execution_count": 6,
   "id": "21ea7006",
   "metadata": {},
   "outputs": [
    {
     "name": "stdout",
     "output_type": "stream",
     "text": [
      "0    44\n",
      "1    54\n",
      "2    65\n",
      "3    35\n",
      "dtype: int32\n"
     ]
    }
   ],
   "source": [
    "import pandas as pd\n",
    "import numpy as np\n",
    "\n",
    "series_age = pd.Series(np.array([44, 54, 65, 35]))\n",
    "print(series_age)"
   ]
  },
  {
   "cell_type": "code",
   "execution_count": 7,
   "id": "835289ff",
   "metadata": {},
   "outputs": [
    {
     "name": "stdout",
     "output_type": "stream",
     "text": [
      "RangeIndex(start=0, stop=4, step=1)\n"
     ]
    }
   ],
   "source": [
    "print(series_age.index)"
   ]
  },
  {
   "cell_type": "code",
   "execution_count": null,
   "id": "ff218de8",
   "metadata": {},
   "outputs": [],
   "source": []
  }
 ],
 "metadata": {
  "kernelspec": {
   "display_name": "Python [conda env:base] *",
   "language": "python",
   "name": "conda-base-py"
  },
  "language_info": {
   "codemirror_mode": {
    "name": "ipython",
    "version": 3
   },
   "file_extension": ".py",
   "mimetype": "text/x-python",
   "name": "python",
   "nbconvert_exporter": "python",
   "pygments_lexer": "ipython3",
   "version": "3.12.7"
  }
 },
 "nbformat": 4,
 "nbformat_minor": 5
}
