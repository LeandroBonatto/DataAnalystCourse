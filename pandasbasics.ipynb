{
 "cells": [
  {
   "cell_type": "code",
   "execution_count": 1,
   "id": "77a546bc",
   "metadata": {},
   "outputs": [],
   "source": [
    "import pandas as pd"
   ]
  },
  {
   "cell_type": "code",
   "execution_count": 2,
   "id": "f2887ea9",
   "metadata": {},
   "outputs": [
    {
     "data": {
      "text/plain": [
       "'1.5.3'"
      ]
     },
     "execution_count": 2,
     "metadata": {},
     "output_type": "execute_result"
    }
   ],
   "source": [
    "pd.__version__"
   ]
  },
  {
   "cell_type": "code",
   "execution_count": 3,
   "id": "92bbef78",
   "metadata": {},
   "outputs": [
    {
     "data": {
      "text/plain": [
       "['A', 'B', 'C', 'D']"
      ]
     },
     "execution_count": 3,
     "metadata": {},
     "output_type": "execute_result"
    }
   ],
   "source": [
    "products = ['A','B','C','D']\n",
    "products"
   ]
  },
  {
   "cell_type": "code",
   "execution_count": 4,
   "id": "36b8f986",
   "metadata": {},
   "outputs": [
    {
     "data": {
      "text/plain": [
       "list"
      ]
     },
     "execution_count": 4,
     "metadata": {},
     "output_type": "execute_result"
    }
   ],
   "source": [
    "type(products)"
   ]
  },
  {
   "cell_type": "code",
   "execution_count": 5,
   "id": "f55907b1",
   "metadata": {},
   "outputs": [],
   "source": [
    "products_categories = pd.Series(products)"
   ]
  },
  {
   "cell_type": "code",
   "execution_count": 6,
   "id": "b853271d",
   "metadata": {},
   "outputs": [
    {
     "data": {
      "text/plain": [
       "0    A\n",
       "1    B\n",
       "2    C\n",
       "3    D\n",
       "dtype: object"
      ]
     },
     "execution_count": 6,
     "metadata": {},
     "output_type": "execute_result"
    }
   ],
   "source": [
    "products_categories"
   ]
  },
  {
   "cell_type": "code",
   "execution_count": 7,
   "id": "96a429a1",
   "metadata": {},
   "outputs": [],
   "source": [
    "daily_rates_dol = pd.Series([40, 45, 50, 60])"
   ]
  },
  {
   "cell_type": "code",
   "execution_count": 8,
   "id": "8efe456d",
   "metadata": {},
   "outputs": [
    {
     "data": {
      "text/plain": [
       "0    40\n",
       "1    45\n",
       "2    50\n",
       "3    60\n",
       "dtype: int64"
      ]
     },
     "execution_count": 8,
     "metadata": {},
     "output_type": "execute_result"
    }
   ],
   "source": [
    "daily_rates_dol"
   ]
  },
  {
   "cell_type": "code",
   "execution_count": 9,
   "id": "83867f01",
   "metadata": {},
   "outputs": [],
   "source": [
    "import numpy as np"
   ]
  },
  {
   "cell_type": "code",
   "execution_count": 10,
   "id": "2f9eb526",
   "metadata": {},
   "outputs": [],
   "source": [
    "array_a = np.array([10, 20, 30, 40, 50])"
   ]
  },
  {
   "cell_type": "code",
   "execution_count": 11,
   "id": "b8bccff6",
   "metadata": {},
   "outputs": [
    {
     "data": {
      "text/plain": [
       "array([10, 20, 30, 40, 50])"
      ]
     },
     "execution_count": 11,
     "metadata": {},
     "output_type": "execute_result"
    }
   ],
   "source": [
    "array_a"
   ]
  },
  {
   "cell_type": "code",
   "execution_count": 12,
   "id": "fc29b00c",
   "metadata": {},
   "outputs": [
    {
     "data": {
      "text/plain": [
       "0    10\n",
       "1    20\n",
       "2    30\n",
       "3    40\n",
       "4    50\n",
       "dtype: int32"
      ]
     },
     "execution_count": 12,
     "metadata": {},
     "output_type": "execute_result"
    }
   ],
   "source": [
    "series_a = pd.Series(array_a)\n",
    "series_a"
   ]
  },
  {
   "cell_type": "code",
   "execution_count": 13,
   "id": "8e3770ba",
   "metadata": {},
   "outputs": [
    {
     "name": "stdout",
     "output_type": "stream",
     "text": [
      "['Amy White', 'Jack Stewart', 'Richard Lauderdale', 'Sara Johnson']\n"
     ]
    }
   ],
   "source": [
    "employee_names = ['Amy White', 'Jack Stewart', 'Richard Lauderdale', 'Sara Johnson']\n",
    "print(employee_names)"
   ]
  },
  {
   "cell_type": "code",
   "execution_count": 14,
   "id": "f4bca84e",
   "metadata": {},
   "outputs": [
    {
     "data": {
      "text/plain": [
       "list"
      ]
     },
     "execution_count": 14,
     "metadata": {},
     "output_type": "execute_result"
    }
   ],
   "source": [
    "type(employee_names)"
   ]
  },
  {
   "cell_type": "code",
   "execution_count": null,
   "id": "2e390518",
   "metadata": {},
   "outputs": [],
   "source": []
  }
 ],
 "metadata": {
  "kernelspec": {
   "display_name": "Python [conda env:base] *",
   "language": "python",
   "name": "conda-base-py"
  },
  "language_info": {
   "codemirror_mode": {
    "name": "ipython",
    "version": 3
   },
   "file_extension": ".py",
   "mimetype": "text/x-python",
   "name": "python",
   "nbconvert_exporter": "python",
   "pygments_lexer": "ipython3",
   "version": "3.12.7"
  }
 },
 "nbformat": 4,
 "nbformat_minor": 5
}
